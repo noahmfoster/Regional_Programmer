{
  "cells": [
    {
      "attachments": {},
      "cell_type": "markdown",
      "metadata": {
        "id": "_gbhzuJwsPT-"
      },
      "source": [
        "# The Full Project\n",
        "\n",
        "\n"
      ]
    },
    {
      "cell_type": "code",
      "execution_count": null,
      "metadata": {
        "id": "eJ9H3BOGuce4"
      },
      "outputs": [],
      "source": [
        "import tensorflow as tf\n",
        "import torch\n",
        "import transformers\n",
        "import numpy as np"
      ]
    },
    {
      "cell_type": "code",
      "execution_count": null,
      "metadata": {
        "id": "HD-4UTfqsKw-"
      },
      "outputs": [],
      "source": [
        "class ScenePrompt():\n",
        "    def __init__(self, characters = [], nouns = [], first_line = \"\", first_character = \"\"): # lines is a list of tuples of (speaker, line)\n",
        "        self.characters = characters if type(characters) == list else [characters]\n",
        "\n",
        "        self.first_line = f\"{first_character}: {first_line}\"\n",
        "\n",
        "        self.nouns = nouns \n",
        "\n",
        "        if first_character:\n",
        "            self.first = first_character\n",
        "        elif self.characters: self.first = tf.random.shuffle(self.characters)[0]\n",
        "        else: self.first = \"Dwight:\"\n",
        "\n",
        "    def to_text(self):\n",
        "        output = f\"Characters: \" + \", \".join(set(self.characters)) + \"\\n\\n\"\n",
        "\n",
        "        if self.nouns:\n",
        "            output += \"Nouns: \" + \", \".join(self.nouns) + \"\\n\\n\" # Need to implement random sampling later\n",
        "\n",
        "        output += \"----TEXT----\"\n",
        "\n",
        "        output += \"\\n\\n\".join(\n",
        "            [\n",
        "                f\"{character}: {line}\"\n",
        "                for character, line in zip(\n",
        "                    self.characters[:self.n_lines],\n",
        "                    self.lines[:self.n_lines]\n",
        "                )\n",
        "            ]\n",
        "        )\n",
        "\n",
        "        return output"
      ]
    },
    {
      "cell_type": "code",
      "execution_count": null,
      "metadata": {},
      "outputs": [],
      "source": [
        "class FullModel():\n",
        "    "
      ]
    },
    {
      "cell_type": "markdown",
      "metadata": {
        "id": "2Fb_QWF8uVBr"
      },
      "source": [
        "## Importing the models!"
      ]
    },
    {
      "cell_type": "code",
      "execution_count": null,
      "metadata": {
        "id": "n2unrnlTuUn8"
      },
      "outputs": [],
      "source": []
    }
  ],
  "metadata": {
    "colab": {
      "provenance": []
    },
    "kernelspec": {
      "display_name": "torch",
      "language": "python",
      "name": "python3"
    },
    "language_info": {
      "name": "python",
      "version": "3.10.4 (main, Mar 31 2022, 03:38:35) [Clang 12.0.0 ]"
    },
    "vscode": {
      "interpreter": {
        "hash": "fb79b4760a3db271a0094282eed73d55c4f5e3b07e2a097a4c69ffa68186c117"
      }
    }
  },
  "nbformat": 4,
  "nbformat_minor": 0
}
