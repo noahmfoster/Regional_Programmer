{
  "nbformat": 4,
  "nbformat_minor": 0,
  "metadata": {
    "colab": {
      "provenance": []
    },
    "kernelspec": {
      "name": "python3",
      "display_name": "Python 3"
    },
    "language_info": {
      "name": "python"
    }
  },
  "cells": [
    {
      "cell_type": "markdown",
      "source": [
        "# The Full Pipeline!\n",
        "\n",
        "* Getting the models\n",
        "\n",
        "* Taking an Image\n"
      ],
      "metadata": {
        "id": "_gbhzuJwsPT-"
      }
    },
    {
      "cell_type": "code",
      "source": [
        "import tensorflow"
      ],
      "metadata": {
        "id": "eJ9H3BOGuce4"
      },
      "execution_count": null,
      "outputs": []
    },
    {
      "cell_type": "code",
      "execution_count": null,
      "metadata": {
        "id": "HD-4UTfqsKw-"
      },
      "outputs": [],
      "source": [
        "class ScenePrompt():\n",
        "    def __init__(self, characters_seen, nouns = [], first_line = \"\", first_character = \"\"): # lines is a list of tuples of (speaker, line)\n",
        "        self.characters = list(characters)\n",
        "\n",
        "        self.first_line = f\"{first_character}: {first_line}\"\n",
        "\n",
        "        self.nouns = nouns \n",
        "\n",
        "        self.n_lines = len(lines)\n",
        "\n",
        "    def to_text(self, missing_lines = 0):\n",
        "        output = f\"Characters: \" + \", \".join(set(self.characters)) + \"\\n\\n\"\n",
        "\n",
        "        output += \"Nouns: \" + \", \".join(self.nouns) + \"\\n\\n\" # Need to implement random sampling later\n",
        "\n",
        "        output += \"----TEXT----\"\n",
        "\n",
        "        if missing_lines < self.n_lines: output += \"\\n\\n\"\n",
        "\n",
        "        output += \"\\n\\n\".join(\n",
        "            [\n",
        "                f\"{character}: {line}\"\n",
        "                for character, line in zip(\n",
        "                    self.characters[:self.n_lines],\n",
        "                    self.lines[:self.n_lines]\n",
        "                )\n",
        "            ]\n",
        "        )\n",
        "\n",
        "        return output"
      ]
    },
    {
      "cell_type": "markdown",
      "source": [
        "## Importing the models!"
      ],
      "metadata": {
        "id": "2Fb_QWF8uVBr"
      }
    },
    {
      "cell_type": "code",
      "source": [],
      "metadata": {
        "id": "n2unrnlTuUn8"
      },
      "execution_count": null,
      "outputs": []
    }
  ]
}