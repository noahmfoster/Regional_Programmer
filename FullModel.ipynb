{
  "cells": [
    {
      "attachments": {},
      "cell_type": "markdown",
      "metadata": {
        "id": "_gbhzuJwsPT-"
      },
      "source": [
        "# The Full Project\n",
        "In order to run, there are a couple things we will need that don't come freely with the repo.\n",
        "1. The full environment requirements for this project are stored in the env.yml file. Please install this.\n",
        "2. The vision model can be found [here](https://drive.google.com/file/d/1RTq_2ERsP9FJYS3NEHTlJaiBccXczRos/view?usp=share_link). Please download this and place it in the VisionModel folder. It should be called \"transfer_learning_trained_the_office_cnn_model.h5\"\n",
        "3. The language model can be found [here](https://drive.google.com/file/d/1-OBcLD6D5a0dDhroXczdtbOlg--51bYG/view?usp=share_link). Please download this and place it in the LanguageModel folder. It should be called \"pytorch_model.bin\"\n",
        "4. The language model config can be found[here](https://drive.google.com/file/d/1-L9sxJWAeTUyOoOPOFKf-s_HJKKqsYSh/view?usp=share_link). Please download this and place it in the LanguageModel folder. It should be called \"config.json\""
      ]
    },
    {
      "cell_type": "code",
      "execution_count": 1,
      "metadata": {
        "id": "eJ9H3BOGuce4"
      },
      "outputs": [
        {
          "name": "stderr",
          "output_type": "stream",
          "text": [
            "2022-12-09 10:23:56.594023: I tensorflow/core/platform/cpu_feature_guard.cc:193] This TensorFlow binary is optimized with oneAPI Deep Neural Network Library (oneDNN) to use the following CPU instructions in performance-critical operations:  AVX2 AVX512F AVX512_VNNI FMA\n",
            "To enable them in other operations, rebuild TensorFlow with the appropriate compiler flags.\n"
          ]
        }
      ],
      "source": [
        "# This line sneakily imports a lot of modules. Could well be slow.\n",
        "from model import AtRM\n"
      ]
    },
    {
      "cell_type": "code",
      "execution_count": 2,
      "metadata": {
        "id": "HD-4UTfqsKw-"
      },
      "outputs": [
        {
          "name": "stdout",
          "output_type": "stream",
          "text": [
            "Loading Vision models...\n",
            "CLIP model loaded\n"
          ]
        },
        {
          "name": "stderr",
          "output_type": "stream",
          "text": [
            "2022-12-09 10:24:14.455254: I tensorflow/core/platform/cpu_feature_guard.cc:193] This TensorFlow binary is optimized with oneAPI Deep Neural Network Library (oneDNN) to use the following CPU instructions in performance-critical operations:  AVX2 AVX512F AVX512_VNNI FMA\n",
            "To enable them in other operations, rebuild TensorFlow with the appropriate compiler flags.\n"
          ]
        },
        {
          "name": "stdout",
          "output_type": "stream",
          "text": [
            "Vision models loaded.\n",
            "Loading Language models...\n",
            "Language models loaded.\n",
            "Your Assistant (to) the Regional Manager is here!\n"
          ]
        }
      ],
      "source": [
        "model = AtRM(verbose = True, lm = \"tuned\")\n",
        "print(model)"
      ]
    },
    {
      "cell_type": "code",
      "execution_count": null,
      "metadata": {},
      "outputs": [],
      "source": []
    },
    {
      "cell_type": "markdown",
      "metadata": {
        "id": "2Fb_QWF8uVBr"
      },
      "source": [
        "## Importing the models!"
      ]
    },
    {
      "cell_type": "code",
      "execution_count": null,
      "metadata": {
        "id": "n2unrnlTuUn8"
      },
      "outputs": [],
      "source": []
    }
  ],
  "metadata": {
    "colab": {
      "provenance": []
    },
    "kernelspec": {
      "display_name": "torch",
      "language": "python",
      "name": "python3"
    },
    "language_info": {
      "codemirror_mode": {
        "name": "ipython",
        "version": 3
      },
      "file_extension": ".py",
      "mimetype": "text/x-python",
      "name": "python",
      "nbconvert_exporter": "python",
      "pygments_lexer": "ipython3",
      "version": "3.10.8"
    },
    "vscode": {
      "interpreter": {
        "hash": "fb79b4760a3db271a0094282eed73d55c4f5e3b07e2a097a4c69ffa68186c117"
      }
    }
  },
  "nbformat": 4,
  "nbformat_minor": 0
}
