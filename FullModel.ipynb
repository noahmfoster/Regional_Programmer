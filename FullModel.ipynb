{
  "cells": [
    {
      "attachments": {},
      "cell_type": "markdown",
      "metadata": {
        "id": "_gbhzuJwsPT-"
      },
      "source": [
        "# The Full Project\n",
        "In order to run, there are a couple things we will need that don't come freely with the repo. They can all by installed by running GetModels.py, but if you want to do it manually, here are the steps:\n",
        "\n",
        "1. The full environment requirements for this project are stored in the env.yml file. Please install this.\n",
        "2. The vision model can be found [here](https://drive.google.com/file/d/1RTq_2ERsP9FJYS3NEHTlJaiBccXczRos/view?usp=share_link). Please download this and place it in the VisionModel folder. It should be called \"transfer_learning_trained_the_office_cnn_model.h5\"\n",
        "3. The language model can be found [here](https://drive.google.com/file/d/1-OBcLD6D5a0dDhroXczdtbOlg--51bYG/view?usp=share_link). Please download this and place it in the LanguageModel folder. It should be called \"pytorch_model.bin\"\n",
        "4. The language model config can be found[here](https://drive.google.com/file/d/1-L9sxJWAeTUyOoOPOFKf-s_HJKKqsYSh/view?usp=share_link). Please download this and place it in the LanguageModel folder. It should be called \"config.json\""
      ]
    },
    {
      "cell_type": "code",
      "execution_count": 1,
      "metadata": {
        "id": "eJ9H3BOGuce4"
      },
      "outputs": [
        {
          "name": "stderr",
          "output_type": "stream",
          "text": [
            "2022-12-11 16:41:39.540466: I tensorflow/core/platform/cpu_feature_guard.cc:193] This TensorFlow binary is optimized with oneAPI Deep Neural Network Library (oneDNN) to use the following CPU instructions in performance-critical operations:  AVX2 AVX512F AVX512_VNNI FMA\n",
            "To enable them in other operations, rebuild TensorFlow with the appropriate compiler flags.\n"
          ]
        }
      ],
      "source": [
        "# This line sneakily imports a lot of modules. Could well be slow.\n",
        "from model import AtRM"
      ]
    },
    {
      "cell_type": "code",
      "execution_count": null,
      "metadata": {
        "id": "HD-4UTfqsKw-"
      },
      "outputs": [
        {
          "name": "stderr",
          "output_type": "stream",
          "text": [
            "2022-12-11 16:34:52.676512: I tensorflow/core/platform/cpu_feature_guard.cc:193] This TensorFlow binary is optimized with oneAPI Deep Neural Network Library (oneDNN) to use the following CPU instructions in performance-critical operations:  AVX2 AVX512F AVX512_VNNI FMA\n",
            "To enable them in other operations, rebuild TensorFlow with the appropriate compiler flags.\n"
          ]
        },
        {
          "name": "stdout",
          "output_type": "stream",
          "text": [
            "Your Assistant (to) the Regional Manager is here!\n"
          ]
        }
      ],
      "source": [
        "model = AtRM(in_context_learning=False) # options: verbose = False, lm = \"tuned\", get_text_data = True, in_context_learing = False\n",
        "print(model)\n"
      ]
    },
    {
      "cell_type": "code",
      "execution_count": null,
      "metadata": {},
      "outputs": [],
      "source": [
        "output = model(img_file = 'Data/Test_Images/Test_Image_7.jpeg', n_context_scene = 3, include_prompt=False)\n",
        "print(output)"
      ]
    },
    {
      "cell_type": "code",
      "execution_count": null,
      "metadata": {},
      "outputs": [
        {
          "name": "stderr",
          "output_type": "stream",
          "text": [
            "Using custom data configuration default-bc07e13b8058c606\n",
            "Found cached dataset csv (/Users/noah/.cache/huggingface/datasets/csv/default-bc07e13b8058c606/0.0.0/6b34fb8fcf56f7c8ba51dc895bfa2bfbe43546f190a60fcf74bb5e8afdcc2317)\n",
            "Loading cached shuffled indices for dataset at /Users/noah/.cache/huggingface/datasets/csv/default-bc07e13b8058c606/0.0.0/6b34fb8fcf56f7c8ba51dc895bfa2bfbe43546f190a60fcf74bb5e8afdcc2317/cache-9ccaf37196c3f921.arrow\n",
            "Loading cached split indices for dataset at /Users/noah/.cache/huggingface/datasets/csv/default-bc07e13b8058c606/0.0.0/6b34fb8fcf56f7c8ba51dc895bfa2bfbe43546f190a60fcf74bb5e8afdcc2317/cache-e7a64d8bb37dc606.arrow and /Users/noah/.cache/huggingface/datasets/csv/default-bc07e13b8058c606/0.0.0/6b34fb8fcf56f7c8ba51dc895bfa2bfbe43546f190a60fcf74bb5e8afdcc2317/cache-0b0fc9408f4531d3.arrow\n"
          ]
        },
        {
          "data": {
            "application/vnd.jupyter.widget-view+json": {
              "model_id": "8e2e70fba421405bac4dade74967e493",
              "version_major": 2,
              "version_minor": 0
            },
            "text/plain": [
              "  0%|          | 0/1 [00:00<?, ?ba/s]"
            ]
          },
          "metadata": {},
          "output_type": "display_data"
        },
        {
          "name": "stdout",
          "output_type": "stream",
          "text": [
            "Dataset({\n",
            "    features: ['input_ids'],\n",
            "    num_rows: 286\n",
            "})\n",
            "[tensor(1.8549)]\n",
            "[tensor(1.8549), tensor(2.2022)]\n"
          ]
        },
        {
          "data": {
            "text/plain": [
              "array(7.718099, dtype=float32)"
            ]
          },
          "execution_count": 4,
          "metadata": {},
          "output_type": "execute_result"
        }
      ],
      "source": [
        "model_untuned = AtRM(lm = \"untuned\", in_context_learning=False)\n",
        "print(f\"Perplextiy of tuned model: {model.evalutate_lm(n=100)}\")\n",
        "print(f\"Perplextiy of untuned model: {model_untuned.evalutate_lm(n=100)}\")"
      ]
    }
  ],
  "metadata": {
    "colab": {
      "provenance": []
    },
    "kernelspec": {
      "display_name": "torch",
      "language": "python",
      "name": "python3"
    },
    "language_info": {
      "codemirror_mode": {
        "name": "ipython",
        "version": 3
      },
      "file_extension": ".py",
      "mimetype": "text/x-python",
      "name": "python",
      "nbconvert_exporter": "python",
      "pygments_lexer": "ipython3",
      "version": "3.10.8"
    },
    "vscode": {
      "interpreter": {
        "hash": "fb79b4760a3db271a0094282eed73d55c4f5e3b07e2a097a4c69ffa68186c117"
      }
    }
  },
  "nbformat": 4,
  "nbformat_minor": 0
}
